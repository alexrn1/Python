{
 "cells": [
  {
   "cell_type": "markdown",
   "metadata": {},
   "source": [
    "# Introducción a Python\n",
    "\n",
    "Basado en DataCamp\n",
    "\n",
    "Python es un lenguaje de programación de propósito general que cada vez es más popular para la ciencia de los datos. Empresas de todo el mundo utilizan Python para obtener información de sus datos y obtener una ventaja competitiva. A diferencia de otros tutoriales de Python, este curso se centra en Python específicamente para la ciencia de datos. En nuestro curso de Introducción a Python, aprenderás sobre poderosas formas de almacenar y manipular datos, y útiles herramientas de ciencia de datos para comenzar a realizar tus propios análisis. "
   ]
  },
  {
   "cell_type": "markdown",
   "metadata": {},
   "source": [
    "## 1 Python básico\n",
    "\n",
    "Para añadir comentarios a tu script de Python, puedes utilizar la etiqueta #. Estos comentarios no se ejecutan como código Python, por lo que no influirán en el resultado. Como ejemplo, tome el comentario en el editor, # División; es completamente ignorado durante la ejecución.\n",
    "\n",
    "### Python como calculadora\n",
    "Python es perfectamente adecuado para realizar cálculos básicos. Aparte de la suma, la resta, la multiplicación y la división, también hay soporte para operaciones más avanzadas como:\n",
    "\n",
    "- Exponenciación: \\*\\*. Este operador eleva el número de la izquierda a la potencia del número de la derecha. Por ejemplo, 4\\*\\*2 dará 16.\n",
    "- Módulo: %. Este operador devuelve el resto de la división del número de la izquierda entre el número de la derecha. Por ejemplo, 18 % 7 es igual a 4.\n"
   ]
  },
  {
   "cell_type": "code",
   "execution_count": 8,
   "metadata": {},
   "outputs": [
    {
     "name": "stdout",
     "output_type": "stream",
     "text": [
      "10\n",
      "0\n",
      "15\n",
      "5.0\n",
      "4\n",
      "16\n",
      "194.87171000000012\n"
     ]
    }
   ],
   "source": [
    "# Suma, resta\n",
    "print(5 + 5)\n",
    "print(5 - 5)\n",
    "\n",
    "# Multiplicación, división, módulo, y exponenciación\n",
    "print(3 * 5)\n",
    "print(10 / 2)\n",
    "print(18 % 7)\n",
    "print(4 ** 2)\n",
    "\n",
    "# Cuanto es $100 después de 7 años con un 10% anual de interés\n",
    "print(100*1.1**7)"
   ]
  },
  {
   "cell_type": "markdown",
   "metadata": {},
   "source": [
    "### Asignación de variables\n",
    "En Python, una variable permite referirse a un valor con un nombre. Para crear una variable utilice '=', como en este ejemplo:\n",
    "\n",
    "x = 5\n",
    "\n",
    "Ahora puedes usar el nombre de esta variable, x, en lugar del valor real, 5.\n",
    "\n",
    "Recuerda que '=' en Python significa asignación, ¡no comprueba la igualdad!\n"
   ]
  },
  {
   "cell_type": "code",
   "execution_count": 9,
   "metadata": {},
   "outputs": [
    {
     "name": "stdout",
     "output_type": "stream",
     "text": [
      "100\n"
     ]
    }
   ],
   "source": [
    "# Create a variable savings\n",
    "savings = 100\n",
    "\n",
    "# Print out savings\n",
    "print(savings)\n",
    "\n",
    "# Create a variable savings\n",
    "savings = 100"
   ]
  },
  {
   "cell_type": "markdown",
   "metadata": {},
   "source": [
    "### Cálculos con variables\n",
    "¿Recuerdas cómo calculaste el dinero con el que terminaste después de 7 años de invertir 100 dólares? Hiciste algo así\n",
    "\n",
    "100 * 1.1 ** 7\n",
    "\n",
    "En lugar de calcular con los valores reales, puedes utilizar variables. La variable de ahorro que has creado en el ejercicio anterior representa los 100 dólares con los que empezaste. Ahora tienes que crear una nueva variable que represente el 1,1 y volver a hacer los cálculos."
   ]
  },
  {
   "cell_type": "code",
   "execution_count": 10,
   "metadata": {},
   "outputs": [
    {
     "name": "stdout",
     "output_type": "stream",
     "text": [
      "194.87171000000012\n"
     ]
    }
   ],
   "source": [
    "# Create a variable growth_multiplier\n",
    "growth_multiplier = 1.1\n",
    "\n",
    "# Calculate result\n",
    "result = savings *1.1**7\n",
    "\n",
    "# Print out result\n",
    "print(result)"
   ]
  },
  {
   "cell_type": "markdown",
   "metadata": {},
   "source": [
    "### Otros tipos de variables\n",
    "Tipos de datos de Python que se han trabajado:\n",
    "\n",
    "- int, o entero: un número sin parte fraccionaria. ahorro, con el valor 100, es un ejemplo de entero.\n",
    "- float, o punto flotante: un número que tiene una parte entera y otra fraccionaria, separadas por un punto. growth_multiplier, con el valor 1.1, es un ejemplo de float.\n",
    "\n",
    "Junto a los tipos de datos numéricos, hay otros dos tipos de datos muy comunes\n",
    "\n",
    "- str, o cadena: un tipo para representar texto. Se pueden utilizar comillas simples o dobles para construir una cadena.\n",
    "- bool, o booleano: un tipo para representar valores lógicos. Sólo puede ser Verdadero o Falso (¡las mayúsculas son importantes!).\n",
    "\n",
    "Para averiguar el tipo de un valor o de una variable que hace referencia a ese valor, puedes utilizar la función type(). Supongamos que has definido una variable a, pero has olvidado el tipo de esta variable. Para determinar el tipo de a, simplemente ejecute\n",
    "\n",
    "type(a)"
   ]
  },
  {
   "cell_type": "code",
   "execution_count": 11,
   "metadata": {},
   "outputs": [],
   "source": [
    "# Create a variable desc\n",
    "desc = \"compound interest\"\n",
    "\n",
    "# Create a variable profitable\n",
    "profitable = True"
   ]
  },
  {
   "cell_type": "markdown",
   "metadata": {},
   "source": [
    "### Operaciones con otros tipos\n",
    "Se mencionó que los diferentes tipos se comportan de manera diferente en Python.\n",
    "\n",
    "Cuando sumas dos cadenas, por ejemplo, tendrás un comportamiento diferente que cuando sumas dos enteros o dos booleanos."
   ]
  },
  {
   "cell_type": "code",
   "execution_count": 12,
   "metadata": {},
   "outputs": [
    {
     "name": "stdout",
     "output_type": "stream",
     "text": [
      "<class 'float'>\n",
      "compound interestcompound interest\n"
     ]
    }
   ],
   "source": [
    "savings = 100\n",
    "growth_multiplier = 1.1\n",
    "desc = \"compound interest\"\n",
    "\n",
    "# Assign product of growth_multiplier and savings to year1\n",
    "year1 = growth_multiplier * savings\n",
    "\n",
    "# Print the type of year1\n",
    "print(type(year1))\n",
    "\n",
    "# Assign sum of desc and desc to doubledesc\n",
    "doubledesc = desc + desc\n",
    "\n",
    "# Print out doubledesc\n",
    "print(doubledesc)"
   ]
  },
  {
   "cell_type": "markdown",
   "metadata": {},
   "source": [
    "### Conversión de tipos\n",
    "Utilizar el operador + para pegar dos cadenas puede ser muy útil para construir mensajes personalizados.\n",
    "\n",
    "Suponga, por ejemplo, que ha calculado el rendimiento de su inversión y quiere resumir los resultados en una cadena. Suponiendo que el ahorro entero y el resultado flotante están definidos, puede intentar algo como esto"
   ]
  },
  {
   "cell_type": "code",
   "execution_count": 16,
   "metadata": {},
   "outputs": [],
   "source": [
    "print(\"Yo inicie con \\\\$\" + savings + \" y ahora tengo \\\\$\" + result + \". Genial!\") "
   ]
  },
  {
   "cell_type": "markdown",
   "metadata": {},
   "source": [
    "Sin embargo, esto no funcionará, ya que no puedes simplemente sumar cadenas y enteros/floats.\n",
    "\n",
    "Para solucionar el error, tendrá que convertir explícitamente los tipos de sus variables. Más concretamente, necesitarás str(), para convertir un valor en una cadena. str(ahorros), por ejemplo, convertirá los ahorros enteros en una cadena.\n",
    "\n",
    "Funciones similares como int(), float() y bool() te ayudarán a convertir valores de Python en cualquier tipo."
   ]
  },
  {
   "cell_type": "code",
   "execution_count": 7,
   "metadata": {},
   "outputs": [
    {
     "name": "stdout",
     "output_type": "stream",
     "text": [
      "I started with $100 and now have $194.87171000000012. Awesome!\n"
     ]
    }
   ],
   "source": [
    "# Definition of savings and result\n",
    "savings = 100\n",
    "result = 100 * 1.10 ** 7\n",
    "\n",
    "# Fix the printout\n",
    "print(\"I started with $\" + str(savings) + \" and now have $\" + str(result) + \". Awesome!\")\n",
    "\n",
    "# Definition of pi_string\n",
    "pi_string = \"3.1415926\"\n",
    "\n",
    "# Convert pi_string into float: pi_float\n",
    "pi_float = float(pi_string)"
   ]
  },
  {
   "cell_type": "markdown",
   "metadata": {},
   "source": [
    "## 2 Listas de Python\n",
    "Aprenda a almacenar, acceder y manipular datos en listas: el primer paso para trabajar eficazmente con grandes cantidades de datos.\n",
    "\n",
    "### Crear una lista"
   ]
  },
  {
   "cell_type": "markdown",
   "metadata": {},
   "source": [
    "A diferencia de int, bool, etc., una lista es un tipo de datos compuesto; se pueden agrupar valores:\n",
    "\n",
    "a = \"is\"\n",
    "\n",
    "b = \"nice\"\n",
    "\n",
    "my_list = [\"my\", \"list\", a, b]\n",
    "\n",
    "Decides recopilar información sobre la casa en la que vives. Las áreas de las diferentes partes de tu casa se almacenan en variables separadas, como se muestra en el script."
   ]
  },
  {
   "cell_type": "code",
   "execution_count": 6,
   "metadata": {},
   "outputs": [
    {
     "name": "stdout",
     "output_type": "stream",
     "text": [
      "[11.25, 18.0, 20.0, 10.75, 9.5]\n"
     ]
    }
   ],
   "source": [
    "# area variables (in square meters)\n",
    "hall = 11.25\n",
    "kit = 18.0\n",
    "liv = 20.0\n",
    "bed = 10.75\n",
    "bath = 9.50\n",
    "\n",
    "# Create list areas\n",
    "areas = [hall, kit, liv, bed, bath]\n",
    "\n",
    "# Print areas\n",
    "print(areas)"
   ]
  },
  {
   "cell_type": "markdown",
   "metadata": {},
   "source": [
    "### Crear una lista con diferentes tipos\n",
    "Una lista puede contener cualquier tipo de dato de Python. Aunque no es muy común, una lista también puede contener una mezcla de tipos de Python incluyendo cadenas, flotantes, booleanos, etc.\n",
    "\n",
    "La impresión del ejercicio anterior no era realmente satisfactoria. Es sólo una lista de números que representan las áreas, pero no se puede saber qué área corresponde a qué parte de la casa.\n",
    "\n",
    "El código en el editor es el comienzo de una solución. Para algunas de las áreas, el nombre de la habitación correspondiente ya está colocado delante. ¡Presta atención aquí! \"bath\" es una cadena, mientras que bath es una variable que representa el float 9,50 que especificaste antes."
   ]
  },
  {
   "cell_type": "code",
   "execution_count": 5,
   "metadata": {},
   "outputs": [
    {
     "name": "stdout",
     "output_type": "stream",
     "text": [
      "['hallway', 11.25, 'kitchen', 18.0, 'living room', 20.0, 'bedroom', 10.75, 'bathroom', 9.5]\n"
     ]
    }
   ],
   "source": [
    "# area variables (in square meters)\n",
    "hall = 11.25\n",
    "kit = 18.0\n",
    "liv = 20.0\n",
    "bed = 10.75\n",
    "bath = 9.50\n",
    "\n",
    "# Adapt list areas\n",
    "areas = [\"hallway\",hall, \"kitchen\",kit, \"living room\", liv,\"bedroom\", bed, \"bathroom\", bath]\n",
    "\n",
    "# Print areas\n",
    "print(areas)"
   ]
  },
  {
   "cell_type": "markdown",
   "metadata": {},
   "source": [
    "### Lista de listas\n",
    "Como científico de datos, a menudo tendrás que tratar con muchos datos, y tendrá sentido agrupar algunos de estos datos.\n",
    "\n",
    "En lugar de crear una lista plana que contenga cadenas y flotantes, representando los nombres y las áreas de las habitaciones de tu casa, puedes crear una lista de listas. El script en el editor ya le puede dar una idea.\n",
    "\n",
    "No te confundas: \"hallway\" es una cadena, mientras que hall es una variable que representa el float 11.25 que especificaste antes."
   ]
  },
  {
   "cell_type": "code",
   "execution_count": 4,
   "metadata": {},
   "outputs": [
    {
     "name": "stdout",
     "output_type": "stream",
     "text": [
      "[['hallway', 11.25], ['kitchen', 18.0], ['living room', 20.0], ['bedroom', 10.75], ['bathroom', 9.5]]\n",
      "<class 'list'>\n"
     ]
    }
   ],
   "source": [
    "# area variables (in square meters)\n",
    "hall = 11.25\n",
    "kit = 18.0\n",
    "liv = 20.0\n",
    "bed = 10.75\n",
    "bath = 9.50\n",
    "\n",
    "# house information as list of lists\n",
    "house = [[\"hallway\", hall],\n",
    "         [\"kitchen\", kit],\n",
    "         [\"living room\", liv],\n",
    "         [\"bedroom\",bed],\n",
    "         [\"bathroom\",bath]]\n",
    "\n",
    "# Print out house\n",
    "print(house)\n",
    "\n",
    "# Print out the type of house\n",
    "print(type(house))"
   ]
  },
  {
   "cell_type": "markdown",
   "metadata": {},
   "source": [
    "### Subconjunto\n",
    "Subconjuntar listas en Python es muy fácil. Tomemos el ejemplo de código siguiente, que crea una lista x y luego selecciona \"b\" de ella. Recuerda que este es el segundo elemento, por lo que tiene índice 1. También puedes utilizar la indexación negativa.\n",
    "\n",
    "x = [\"a\", \"b\", \"c\", \"d\"]\n",
    "\n",
    "x[1]\n",
    "\n",
    "x[-3] # mismo resultado!\n"
   ]
  },
  {
   "cell_type": "code",
   "execution_count": 3,
   "metadata": {},
   "outputs": [
    {
     "name": "stdout",
     "output_type": "stream",
     "text": [
      "11.25\n",
      "9.5\n",
      "20.0\n"
     ]
    }
   ],
   "source": [
    "# Create the areas list\n",
    "areas = [\"hallway\", 11.25, \"kitchen\", 18.0, \"living room\", 20.0, \"bedroom\", 10.75, \"bathroom\", 9.50]\n",
    "\n",
    "# Print out second element from areas\n",
    "print(areas[1])\n",
    "\n",
    "# Print out last element from areas\n",
    "print(areas[-1])\n",
    "\n",
    "# Print out the area of the living room\n",
    "print(areas[5])"
   ]
  },
  {
   "cell_type": "markdown",
   "metadata": {},
   "source": [
    "### Subconjunto y cálculo\n",
    "Una vez extraídos los valores de una lista, puedes utilizarlos para realizar cálculos adicionales. Tomemos este ejemplo, en el que se extraen el segundo y el cuarto elemento de una lista x. Las cadenas resultantes se pegan con el operador +:\n",
    "\n",
    "x = [\"a\", \"b\", \"c\", \"d\"]\n",
    "print(x[1] + x[3])"
   ]
  },
  {
   "cell_type": "code",
   "execution_count": 1,
   "metadata": {},
   "outputs": [
    {
     "name": "stdout",
     "output_type": "stream",
     "text": [
      "28.75\n"
     ]
    }
   ],
   "source": [
    "# Create the areas list\n",
    "areas = [\"hallway\", 11.25, \"kitchen\", 18.0, \"living room\", 20.0, \"bedroom\", 10.75, \"bathroom\", 9.50]\n",
    "\n",
    "# Sum of kitchen and bedroom area: eat_sleep_area\n",
    "eat_sleep_area = areas[3]+ areas[-3]\n",
    "\n",
    "# Print the variable eat_sleep_area\n",
    "print(eat_sleep_area)"
   ]
  },
  {
   "cell_type": "markdown",
   "metadata": {},
   "source": [
    "### Slicing and dicing\n",
    "La selección de valores individuales de una lista es sólo una parte de la historia. También es posible cortar la lista, es decir, seleccionar varios elementos de la misma. Utilice la siguiente sintaxis:\n",
    "\n",
    "my_list[start:end]\n",
    "\n",
    "El índice start se incluirá, mientras que el índice end no.\n",
    "\n",
    "El ejemplo de código que sigue muestra un ejemplo. Una lista con \"b\" y \"c\", correspondientes a los índices 1 y 2, se selecciona de una lista x:\n",
    "\n",
    "x = [\"a\", \"b\", \"c\", \"d\"]\n",
    "\n",
    "x[1:3]\n",
    "\n",
    "Los elementos con índice 1 y 2 están incluidos, mientras que el elemento con índice 3 no lo está."
   ]
  },
  {
   "cell_type": "code",
   "execution_count": 2,
   "metadata": {},
   "outputs": [
    {
     "name": "stdout",
     "output_type": "stream",
     "text": [
      "['hallway', 11.25, 'kitchen', 18.0, 'living room', 20.0]\n",
      "['bedroom', 10.75, 'bathroom', 9.5]\n"
     ]
    }
   ],
   "source": [
    "# Create the areas list\n",
    "areas = [\"hallway\", 11.25, \"kitchen\", 18.0, \"living room\", 20.0, \"bedroom\", 10.75, \"bathroom\", 9.50]\n",
    "\n",
    "# Use slicing to create downstairs\n",
    "downstairs = areas[:6]\n",
    "\n",
    "# Use slicing to create upstairs\n",
    "upstairs = areas[-4:]\n",
    "\n",
    "# Print out downstairs and upstairs\n",
    "print(downstairs)\n",
    "print(upstairs)"
   ]
  },
  {
   "cell_type": "markdown",
   "metadata": {},
   "source": [
    "Primero se habló de la sintaxis en la que se especifica tanto el comienzo como el final de la porción de la lista:\n",
    "\n",
    "my_list[begin:end]\n",
    "\n",
    "Sin embargo, también es posible no especificar estos índices. Si no se especifica el índice de inicio, Python se da cuenta de que se quiere empezar el corte al principio de la lista. Si no se especifica el índice final, el corte llegará hasta el último elemento de la lista. Para experimentar con esto, pruebe los siguientes comandos en el Shell de IPython:\n",
    "\n",
    "x = [\"a\", \"b\", \"c\", \"d\"]\n",
    "\n",
    "x[:2]\n",
    "\n",
    "x[2:]\n",
    "\n",
    "x[:]"
   ]
  },
  {
   "cell_type": "code",
   "execution_count": null,
   "metadata": {},
   "outputs": [],
   "source": [
    "# Create the areas list\n",
    "areas = [\"hallway\", 11.25, \"kitchen\", 18.0, \"living room\", 20.0, \"bedroom\", 10.75, \"bathroom\", 9.50]\n",
    "\n",
    "# Alternative slicing to create downstairs\n",
    "downstairs = areas[:6]\n",
    "\n",
    "# Alternative slicing to create upstairs\n",
    "upstairs = areas[-4:]"
   ]
  },
  {
   "cell_type": "markdown",
   "metadata": {},
   "source": [
    "### Subconjunto de listas de listas\n",
    "\n",
    "Ya has visto que una lista de Python puede contener prácticamente cualquier cosa; ¡incluso otras listas! Para subconjuntar listas de listas, puedes utilizar la misma técnica que antes: los corchetes. Pruebe los comandos del siguiente ejemplo de código en la Shell de Python:"
   ]
  },
  {
   "cell_type": "code",
   "execution_count": null,
   "metadata": {},
   "outputs": [],
   "source": [
    "x = [[\"a\", \"b\", \"c\"],\n",
    "     [\"d\", \"e\", \"f\"],\n",
    "     [\"g\", \"h\", \"i\"]]\n",
    "     \n",
    "x[2][0]\n",
    "\n",
    "x[2][:2]\n",
    "\n",
    "x[2] #da como resultado una lista, que puedes volver a subconjuntar añadiendo corchetes adicionales."
   ]
  },
  {
   "cell_type": "markdown",
   "metadata": {},
   "source": [
    "¿Qué devolverá house[-1][1]? house, la lista de listas que creaste antes, ya está definida para ti en el espacio de trabajo. Puedes experimentar con ella en el Python Shell."
   ]
  },
  {
   "cell_type": "markdown",
   "metadata": {},
   "source": [
    "### Reemplazar elementos de la lista\n",
    "\n",
    "Reemplazar elementos de la lista es bastante fácil. Sólo tiene que subdividir la lista y asignar nuevos valores al subconjunto. Puede seleccionar elementos individuales o puede cambiar trozos enteros de la lista a la vez.\n",
    "\n",
    "Utiliza la Shell de Python para experimentar con los comandos siguientes. ¿Puedes decir qué sucede y por qué?"
   ]
  },
  {
   "cell_type": "code",
   "execution_count": null,
   "metadata": {},
   "outputs": [],
   "source": [
    "x = [\"a\", \"b\", \"c\", \"d\"]\n",
    "x[1] = \"r\"\n",
    "x[2:] = [\"s\", \"t\"]"
   ]
  },
  {
   "cell_type": "markdown",
   "metadata": {},
   "source": [
    "Para este ejercicio y los siguientes, seguirás trabajando con la lista de áreas que contiene los nombres y las áreas de las diferentes habitaciones de una casa."
   ]
  },
  {
   "cell_type": "code",
   "execution_count": null,
   "metadata": {},
   "outputs": [],
   "source": [
    "# Create the areas list\n",
    "areas = [\"hallway\", 11.25, \"kitchen\", 18.0, \"living room\", 20.0, \"bedroom\", 10.75, \"bathroom\", 9.50]\n",
    "\n",
    "# Correct the bathroom area\n",
    "areas[-1] = 10.5\n",
    "\n",
    "# Change \"living room\" to \"chill zone\"\n",
    "areas[4] = \"chill zone\""
   ]
  },
  {
   "cell_type": "markdown",
   "metadata": {},
   "source": [
    "### Ampliar una lista\n",
    "Si puedes modificar los elementos de una lista, seguro que quieres poder añadirle elementos, ¿verdad? Puedes utilizar el operador +:"
   ]
  },
  {
   "cell_type": "code",
   "execution_count": null,
   "metadata": {},
   "outputs": [],
   "source": [
    "x = [\"a\", \"b\", \"c\", \"d\"]\n",
    "y = x + [\"e\", \"f\"]"
   ]
  },
  {
   "cell_type": "markdown",
   "metadata": {},
   "source": [
    "Acabas de ganar la lotería, ¡impresionante! Decides construir una casa para la piscina y un garaje. ¿Puedes añadir la información a la lista de áreas?"
   ]
  },
  {
   "cell_type": "code",
   "execution_count": null,
   "metadata": {},
   "outputs": [],
   "source": [
    "# Create the areas list and make some changes\n",
    "areas = [\"hallway\", 11.25, \"kitchen\", 18.0, \"chill zone\", 20.0,\n",
    "         \"bedroom\", 10.75, \"bathroom\", 10.50]\n",
    "\n",
    "# Add poolhouse data to areas, new list is areas_1\n",
    "areas_1 = areas+ [\"poolhouse\", 24.5]\n",
    "\n",
    "# Add garage data to areas_1, new list is areas_2\n",
    "areas_2 = areas_1 + [\"garage\", 15.45]"
   ]
  },
  {
   "cell_type": "markdown",
   "metadata": {},
   "source": [
    "### Eliminar elementos de la lista\n",
    "Por último, también puede eliminar elementos de su lista. Puede hacerlo con la sentencia del"
   ]
  },
  {
   "cell_type": "code",
   "execution_count": null,
   "metadata": {},
   "outputs": [],
   "source": [
    "x = [\"a\", \"b\", \"c\", \"d\"]\n",
    "del(x[1])"
   ]
  },
  {
   "cell_type": "markdown",
   "metadata": {},
   "source": [
    "Presta atención aquí: en cuanto elimines un elemento de una lista, ¡los índices de los elementos que vienen después del elemento eliminado cambian todos!\n",
    "\n",
    "La versión actualizada y ampliada de las áreas que has construido en los ejercicios anteriores está codificada a continuación. Puedes copiar y pegar esto en la Shell de Python para jugar con el resultado.\n"
   ]
  },
  {
   "cell_type": "code",
   "execution_count": null,
   "metadata": {},
   "outputs": [],
   "source": [
    "areas = [\"hallway\", 11.25, \"kitchen\", 18.0,\n",
    "        \"chill zone\", 20.0, \"bedroom\", 10.75,\n",
    "         \"bathroom\", 10.50, \"poolhouse\", 24.5,\n",
    "         \"garage\", 15.45]"
   ]
  },
  {
   "cell_type": "markdown",
   "metadata": {},
   "source": [
    "¡Hubo un error! La cantidad que has ganado con la lotería no es tan grande después de todo y parece que la casa de la piscina no se va a realizar. Decides eliminar la cadena y el flotador correspondientes de la lista de areas.\n",
    "\n",
    "El signo ; se utiliza para colocar los comandos en la misma línea. Los dos trozos de código siguientes son equivalentes:"
   ]
  },
  {
   "cell_type": "code",
   "execution_count": null,
   "metadata": {},
   "outputs": [],
   "source": [
    "# Same line\n",
    "\n",
    "command1; command2\n",
    "\n",
    "# Separate lines\n",
    "\n",
    "command1\n",
    "\n",
    "command2"
   ]
  },
  {
   "cell_type": "markdown",
   "metadata": {},
   "source": [
    "### Funcionamiento interno de las listas\n",
    "\n",
    "El código Python en el script ya crea una lista con el nombre areas y una copia llamada areas_copia. A continuación, se cambia el primer elemento de la lista areas_copia y se imprime la lista areas. Si pulsa Ejecutar Código verá que, aunque ha cambiado areas_copia, el cambio también tiene efecto en la lista de areas. Esto es porque areas y areas_copy apuntan a la misma lista.\n",
    "\n",
    "Si quiere evitar que los cambios en areas_copy tengan también efecto en areas, tendrá que hacer una copia más explícita de la lista de areas. Puede hacerlo con **list() o utilizando [:]**."
   ]
  },
  {
   "cell_type": "code",
   "execution_count": null,
   "metadata": {},
   "outputs": [],
   "source": [
    "# Create list areas\n",
    "areas = [11.25, 18.0, 20.0, 10.75, 9.50]\n",
    "\n",
    "# Create areas_copy\n",
    "areas_copy = list(areas)\n",
    "\n",
    "# Change areas_copy\n",
    "areas_copy[0] = 5.0\n",
    "\n",
    "# Print areas\n",
    "print(areas)"
   ]
  },
  {
   "cell_type": "markdown",
   "metadata": {},
   "source": [
    "# 3 Funciones y paquetes\n",
    "Aprenderás a utilizar funciones, métodos y paquetes para aprovechar de forma eficiente el código que han escrito brillantes desarrolladores de Python. ¡El objetivo es reducir la cantidad de código que necesitas para resolver problemas desafiantes!"
   ]
  },
  {
   "cell_type": "markdown",
   "metadata": {},
   "source": [
    "### Funciones conocidas\n",
    "De entrada, Python ofrece un montón de funciones incorporadas para facilitar tu vida como científico de datos. Ya conoces dos de estas funciones: print() y type(). También has utilizado las funciones str(), int(), bool() y float() para cambiar entre tipos de datos. Éstas también son funciones incorporadas.\n",
    "\n",
    "Llamar a una función es fácil. Para obtener el tipo de 3.0 y almacenar la salida como una nueva variable, resultado, puedes usar lo siguiente:"
   ]
  },
  {
   "cell_type": "code",
   "execution_count": null,
   "metadata": {},
   "outputs": [],
   "source": [
    "result = type(3.0)"
   ]
  },
  {
   "cell_type": "markdown",
   "metadata": {},
   "source": [
    "La receta general para llamar a funciones y guardar el resultado en una variable es la siguiente"
   ]
  },
  {
   "cell_type": "code",
   "execution_count": null,
   "metadata": {},
   "outputs": [],
   "source": [
    "output = function_name(input)"
   ]
  },
  {
   "cell_type": "code",
   "execution_count": 19,
   "metadata": {},
   "outputs": [
    {
     "name": "stdout",
     "output_type": "stream",
     "text": [
      "<class 'list'>\n",
      "4\n"
     ]
    }
   ],
   "source": [
    "# Create variables var1 and var2\n",
    "var1 = [1, 2, 3, 4]\n",
    "var2 = True\n",
    "\n",
    "# Print out type of var1\n",
    "print(type(var1))\n",
    "\n",
    "# Print out length of var1\n",
    "print(len(var1))\n",
    "\n",
    "# Convert var2 to an integer: out2\n",
    "out2 =int(var2)"
   ]
  },
  {
   "cell_type": "markdown",
   "metadata": {},
   "source": [
    "### Ayuda\n",
    "Tal vez ya sepas el nombre de una función de Python, pero todavía tienes que averiguar cómo usarla. Irónicamente, tienes que pedir información sobre una función con otra función: help(). \n",
    "\n",
    "Para obtener ayuda sobre la función max(), por ejemplo, puedes utilizar lo siguiente:"
   ]
  },
  {
   "cell_type": "code",
   "execution_count": 20,
   "metadata": {},
   "outputs": [
    {
     "name": "stdout",
     "output_type": "stream",
     "text": [
      "Help on built-in function max in module builtins:\n",
      "\n",
      "max(...)\n",
      "    max(iterable, *[, default=obj, key=func]) -> value\n",
      "    max(arg1, arg2, *args, *[, key=func]) -> value\n",
      "    \n",
      "    With a single iterable argument, return its biggest item. The\n",
      "    default keyword-only argument specifies an object to return if\n",
      "    the provided iterable is empty.\n",
      "    With two or more arguments, return the largest argument.\n",
      "\n"
     ]
    }
   ],
   "source": [
    "help(max)"
   ]
  },
  {
   "cell_type": "markdown",
   "metadata": {},
   "source": [
    "Utilice el Shell para abrir la documentación sobre complex(). ¿Cuál de las siguientes afirmaciones es verdadera?"
   ]
  },
  {
   "cell_type": "code",
   "execution_count": 22,
   "metadata": {},
   "outputs": [],
   "source": [
    "help(complex) "
   ]
  },
  {
   "cell_type": "markdown",
   "metadata": {},
   "source": [
    "### Argumentos múltiples\n",
    "En el ejercicio anterior, los corchetes alrededor de imag en la documentación nos mostraron que el argumento imag es opcional. Pero Python también utiliza una forma diferente de indicar a los usuarios que los argumentos son opcionales.\n",
    "\n",
    "Echa un vistazo a la documentación de sorted() escribiendo help(sorted) en el Shell de Python.\n",
    "\n",
    "Verás que sorted() toma tres argumentos: iterable, key y reverse.\n",
    "\n",
    "key=None significa que si no se especifica el argumento key, será None. reverse=False significa que si no se especifica el argumento reverse, será False.\n",
    "\n",
    "En este ejercicio, sólo tendrás que especificar iterable y reverse, no key. La primera entrada que pases a sorted() se ajustará al argumento iterable, pero ¿qué pasa con la segunda entrada? Para decirle a Python que quieres especificar reverse sin cambiar nada de key, puedes usar =:"
   ]
  },
  {
   "cell_type": "code",
   "execution_count": null,
   "metadata": {},
   "outputs": [],
   "source": [
    "help(sorted)\n",
    "sorted(___, reverse = ___)"
   ]
  },
  {
   "cell_type": "code",
   "execution_count": null,
   "metadata": {},
   "outputs": [],
   "source": [
    "# Create lists first and second\n",
    "first = [11.25, 18.0, 20.0]\n",
    "second = [10.75, 9.50]\n",
    "\n",
    "# Paste together first and second: full\n",
    "full = first + second\n",
    "\n",
    "# Sort full in descending order: full_sorted\n",
    "full_sorted = sorted(full,reverse=True)\n",
    "\n",
    "# Print out full_sorted\n",
    "print(full_sorted)"
   ]
  },
  {
   "cell_type": "markdown",
   "metadata": {},
   "source": [
    "### Métodos de las cadenas\n",
    "Las cadenas vienen con un montón de métodos. Sigue atentamente las instrucciones para descubrir algunos de ellos. Si quieres descubrirlos con más detalle, siempre puedes escribir help(str) en la Shell de Python.\n",
    "\n",
    "- Utiliza el método upper() en place y almacena el resultado en place_up. Utiliza la sintaxis para llamar a los métodos que aprendiste en el vídeo anterior.\n",
    "- Imprime place y place_up. ¿Cambiaron ambos?\n",
    "- Imprime el número de o's de la variable place llamando a count() sobre place y pasando la letra 'o' como entrada al método. Estamos hablando de la variable place, ¡no de la palabra \"place\"!"
   ]
  },
  {
   "cell_type": "code",
   "execution_count": 23,
   "metadata": {},
   "outputs": [
    {
     "name": "stdout",
     "output_type": "stream",
     "text": [
      "poolhouse\n",
      "POOLHOUSE\n",
      "3\n"
     ]
    }
   ],
   "source": [
    "# string to experiment with: place\n",
    "place = \"poolhouse\"\n",
    "\n",
    "# Use upper() on place: place_up\n",
    "place_up = place.upper()\n",
    "\n",
    "# Print out place and place_up\n",
    "print(place)\n",
    "print(place_up)\n",
    "\n",
    "# Print out the number of o's in place\n",
    "print(place.count('o'))"
   ]
  },
  {
   "cell_type": "markdown",
   "metadata": {},
   "source": [
    "### Métodos de la lista\n",
    "Las cadenas no son los únicos tipos de Python que tienen métodos asociados. Las listas, los flotantes, los enteros y los booleanos también son tipos que vienen con un montón de métodos útiles. En este ejercicio, experimentarás con\n",
    "\n",
    "- index(), para obtener el índice del primer elemento de una lista que coincide con su entrada y\n",
    "- count(), para obtener el número de veces que un elemento aparece en una lista.\n",
    "\n",
    "Trabajarás en la lista con el área de diferentes partes de una casa: areas.\n",
    "- Utiliza el método index() para obtener el índice del elemento en áreas que es igual a 20.0.Imprime este índice.\n",
    "- Llama a count() en areas para saber cuántas veces aparece 9.50 en la lista. De nuevo, simplemente imprime este número."
   ]
  },
  {
   "cell_type": "code",
   "execution_count": null,
   "metadata": {},
   "outputs": [],
   "source": [
    "# Create list areas\n",
    "areas = [11.25, 18.0, 20.0, 10.75, 9.50]\n",
    "\n",
    "# Print out the index of the element 20.0\n",
    "print(areas.index(20))\n",
    "\n",
    "# Print out how often 9.50 appears in areas\n",
    "print(areas.count(9.50))"
   ]
  },
  {
   "cell_type": "markdown",
   "metadata": {},
   "source": [
    "La mayoría de los métodos de lista cambiarán la lista a la que se llama. Algunos ejemplos son:\n",
    "\n",
    "- append(), que añade un elemento a la lista sobre la que se llama,\n",
    "- remove(), que elimina el primer elemento de una lista que coincide con la entrada, y\n",
    "- reverse(), que invierte el orden de los elementos de la lista a la que se llama.\n",
    "\n",
    "Trabajarás en la lista con el área de diferentes partes de la casa: áreas.\n",
    "\n",
    "- Usa append() dos veces para añadir el tamaño de la casa de la piscina y el garaje de nuevo: 24,5 y 15,45, respectivamente. \n",
    "Asegúrate de añadirlos en este orden.\n",
    "- Imprime las áreas\n",
    "- Usa el método reverse() para invertir el orden de los elementos en las áreas.\n",
    "- Imprime las áreas una vez más."
   ]
  },
  {
   "cell_type": "code",
   "execution_count": null,
   "metadata": {},
   "outputs": [],
   "source": [
    "# Create list areas\n",
    "areas = [11.25, 18.0, 20.0, 10.75, 9.50]\n",
    "\n",
    "# Use append twice to add poolhouse and garage size\n",
    "\n",
    "areas.append(24.5)\n",
    "areas.append(15.45)\n",
    "# Print out areas\n",
    "print(areas)\n",
    "\n",
    "# Reverse the orders of the elements in areas\n",
    "areas.reverse()\n",
    "\n",
    "# Print out areas\n",
    "print(areas)"
   ]
  },
  {
   "cell_type": "markdown",
   "metadata": {},
   "source": [
    "### Importar paquete\n",
    "Importa el paquete math. Ahora puedes acceder a la constante pi con math.pi.\n",
    "Calcula la circunferencia del círculo y guárdala en C.\n",
    "Calcula el área del círculo y guárdala en A."
   ]
  },
  {
   "cell_type": "code",
   "execution_count": null,
   "metadata": {},
   "outputs": [],
   "source": [
    "# Definition of radius\n",
    "r = 0.43\n",
    "\n",
    "# Import the math package\n",
    "import math\n",
    "\n",
    "# Calculate C\n",
    "C = 2*math.pi*r\n",
    "\n",
    "# Calculate A\n",
    "A = r**2*math.pi\n",
    "\n",
    "# Build printout\n",
    "print(\"Circumference: \" + str(C))\n",
    "print(\"Area: \" + str(A))"
   ]
  },
  {
   "cell_type": "markdown",
   "metadata": {},
   "source": [
    "### Importación selectiva\n",
    "Las importaciones generales, como import math, ponen a su disposición toda la funcionalidad del paquete math. Sin embargo, si decide utilizar sólo una parte específica de un paquete, siempre puede hacer su importación más selectiva:"
   ]
  },
  {
   "cell_type": "code",
   "execution_count": null,
   "metadata": {},
   "outputs": [],
   "source": [
    "from math import pi"
   ]
  },
  {
   "cell_type": "markdown",
   "metadata": {},
   "source": [
    "Digamos que la órbita de la Luna alrededor del planeta Tierra es un círculo perfecto, con un radio r (en km) que se define en el script."
   ]
  },
  {
   "cell_type": "code",
   "execution_count": null,
   "metadata": {},
   "outputs": [],
   "source": [
    "# Definition of radius\n",
    "r = 192500\n",
    "\n",
    "# Import radians function of math package\n",
    "from math import radians\n",
    "\n",
    "# Travel distance of Moon over 12 degrees. Store in dist.\n",
    "dist = r*radians(12)\n",
    "\n",
    "# Print out dist\n",
    "print(dist)"
   ]
  },
  {
   "cell_type": "markdown",
   "metadata": {},
   "source": [
    "# 4 NumPy\n",
    "NumPy es un paquete de Python fundamental para practicar eficazmente la ciencia de datos. Aprenda a trabajar con las potentes herramientas de la matriz NumPy, e iníciese en la exploración de datos."
   ]
  },
  {
   "cell_type": "markdown",
   "metadata": {},
   "source": [
    "Tu primer array de NumPy\n",
    "\n",
    "En este capítulo, vamos a sumergirnos en el mundo del béisbol. En el camino, te sentirás cómodo con los fundamentos de numpy, un poderoso paquete para hacer ciencia de datos.\n",
    "\n",
    "En el script de Python ya se ha definido una lista de béisbol que representa la altura de algunos jugadores de béisbol en centímetros. ¿Puedes añadir algo de código aquí y allá para crear un array numpy a partir de ella?\n",
    "\n",
    "- Importa el paquete numpy como np, para que puedas referirte a numpy con np.\n",
    "- Utiliza np.array() para crear un arreglo numpy a partir del béisbol. Nombra este array como np_baseball.\n",
    "- Imprime el tipo de np_baseball para comprobar que lo has hecho bien"
   ]
  },
  {
   "cell_type": "code",
   "execution_count": null,
   "metadata": {},
   "outputs": [],
   "source": [
    "# Create list baseball\n",
    "baseball = [180, 215, 210, 210, 188, 176, 209, 200]\n",
    "\n",
    "# Import the numpy package as np\n",
    "import numpy as np\n",
    "\n",
    "# Create a numpy array from baseball: np_baseball\n",
    "np_baseball = np.array(baseball)\n",
    "\n",
    "# Print out type of np_baseball\n",
    "print(type(np_baseball))"
   ]
  },
  {
   "cell_type": "markdown",
   "metadata": {},
   "source": [
    "### Altura de los jugadores de béisbol\n",
    "Eres un gran aficionado al béisbol. Decides llamar a la MLB (Major League Baseball) y preguntar por más estadísticas sobre la altura de los principales jugadores. Te pasan los datos de más de mil jugadores, que se almacenan como una lista normal de Python: height_in. La altura se expresa en pulgadas. ¿Puedes hacer un array numpy con ella y convertir las unidades a metros?\n",
    "\n",
    "height_in ya está disponible y el paquete numpy está cargado, así que puedes empezar directamente (Fuente: <http://wiki.stat.ucla.edu/socr/index.php/SOCR_Data_MLB_HeightsWeights>)."
   ]
  },
  {
   "cell_type": "code",
   "execution_count": null,
   "metadata": {},
   "outputs": [],
   "source": [
    "# height is available as a regular list\n",
    "\n",
    "# Import numpy\n",
    "import numpy as np\n",
    "\n",
    "# Create a numpy array from height_in: np_height_in\n",
    "np_height_in = np.array(height_in)\n",
    "\n",
    "# Print out np_height_in\n",
    "print(np_height_in)\n",
    "\n",
    "# Convert np_height_in to m: np_height_m\n",
    "np_height_m =np_height_in *0.0254\n",
    "\n",
    "# Print np_height_m\n",
    "print(np_height_m)"
   ]
  },
  {
   "cell_type": "markdown",
   "metadata": {},
   "source": [
    "### índice de masa corporal (BMI) de los jugadores de béisbol\n",
    "La BMI también ofrece la posibilidad de analizar sus datos de peso. De nuevo, ambos están disponibles como listas regulares de Python: height_in y weight_lb. height_in está en pulgadas y weight_lb está en libras.\n",
    "\n",
    "Ahora es posible calcular el BMI de cada jugador de béisbol. El código Python para convertir height_in en un array numpy con las unidades correctas ya está disponible en el espacio de trabajo. ¡Sigue las instrucciones paso a paso y termina el juego!"
   ]
  },
  {
   "cell_type": "code",
   "execution_count": null,
   "metadata": {},
   "outputs": [],
   "source": [
    "# height and weight are available as regular lists\n",
    "\n",
    "# Import numpy\n",
    "import numpy as np\n",
    "\n",
    "# Create array from height_in with metric units: np_height_m\n",
    "np_height_m = np.array(height_in) * 0.0254\n",
    "\n",
    "# Create array from weight_lb with metric units: np_weight_kg\n",
    "np_weight_kg = 0.453592 * np.array(weight_lb)\n",
    "\n",
    "# Calculate the BMI: bmi\n",
    "bmi= np_weight_kg/np_height_m**2\n",
    "\n",
    "# Print out bmi\n",
    "print(bmi)"
   ]
  },
  {
   "cell_type": "markdown",
   "metadata": {},
   "source": [
    "### Jugadores de béisbol ligeros\n",
    "Para subdividir tanto las listas regulares de Python como las matrices de numpy, puedes utilizar corchetes:"
   ]
  },
  {
   "cell_type": "code",
   "execution_count": null,
   "metadata": {},
   "outputs": [],
   "source": [
    "x = [4 , 9 , 6, 3, 1]\n",
    "x[1]\n",
    "import numpy as np\n",
    "y = np.array(x)\n",
    "y[1]"
   ]
  },
  {
   "cell_type": "markdown",
   "metadata": {},
   "source": [
    "Para numpy específicamente, también puedes usar arrays numpy booleanos:"
   ]
  },
  {
   "cell_type": "code",
   "execution_count": null,
   "metadata": {},
   "outputs": [],
   "source": [
    "high = y > 5\n",
    "y[high]"
   ]
  },
  {
   "cell_type": "code",
   "execution_count": null,
   "metadata": {},
   "outputs": [],
   "source": [
    "# height and weight are available as a regular lists\n",
    "\n",
    "# Import numpy\n",
    "import numpy as np\n",
    "\n",
    "# Calculate the BMI: bmi\n",
    "np_height_m = np.array(height_in) * 0.0254\n",
    "np_weight_kg = np.array(weight_lb) * 0.453592\n",
    "bmi = np_weight_kg / np_height_m ** 2\n",
    "\n",
    "# Create the light array\n",
    "light = bmi < 21\n",
    "\n",
    "# Print out light\n",
    "print(light)"
   ]
  },
  {
   "cell_type": "markdown",
   "metadata": {},
   "source": [
    "Efectos secundarios de NumPy\n",
    "Como se explicó antes, numpy es genial para hacer aritmética vectorial. Sin embargo, si comparas su funcionalidad con las listas regulares de Python, algunas cosas han cambiado.\n",
    "\n",
    "En primer lugar, los arrays de numpy no pueden contener elementos con diferentes tipos. Si intentas construir una lista de este tipo, se cambian los tipos de algunos de los elementos para terminar con una lista homogénea. Esto se conoce como coerción de tipos.\n",
    "\n",
    "En segundo lugar, los operadores aritméticos típicos, como +, -, * y / tienen un significado diferente para las listas regulares de Python y los arrays de numpy.\n",
    "\n",
    "Mira esta línea de código:"
   ]
  },
  {
   "cell_type": "code",
   "execution_count": 2,
   "metadata": {},
   "outputs": [],
   "source": [
    "np.array([True, 1, 2]) + np.array([3, 4, False])"
   ]
  },
  {
   "cell_type": "markdown",
   "metadata": {},
   "source": [
    "### Subconjunto de matrices NumPy\n",
    "Lo has visto con tus propios ojos: Las listas de Python y los arrays de Numpy a veces se comportan de forma diferente. Por suerte, todavía hay certezas en este mundo. Por ejemplo, el subconjunto (usando la notación de corchetes en listas o arrays) funciona exactamente igual. Para ver esto por ti mismo, prueba las siguientes líneas de código en el Python Shell:"
   ]
  },
  {
   "cell_type": "code",
   "execution_count": null,
   "metadata": {},
   "outputs": [],
   "source": [
    "x = [\"a\", \"b\", \"c\"]\n",
    "x[1]\n",
    "\n",
    "np_x = np.array(x)\n",
    "np_x[1]"
   ]
  },
  {
   "cell_type": "markdown",
   "metadata": {},
   "source": [
    "El script en el editor ya contiene código que importa numpy como np, y almacena tanto la altura como el peso de los jugadores de la MLB como arrays de numpy."
   ]
  },
  {
   "cell_type": "code",
   "execution_count": null,
   "metadata": {},
   "outputs": [],
   "source": [
    "# height and weight are available as a regular lists\n",
    "\n",
    "# Import numpy\n",
    "import numpy as np\n",
    "\n",
    "# Store weight and height lists as numpy arrays\n",
    "np_weight_lb = np.array(weight_lb)\n",
    "np_height_in = np.array(height_in)\n",
    "\n",
    "# Print out the weight at index 50\n",
    "print(np_weight_lb[50])\n",
    "\n",
    "# Print out sub-array of np_height_in: index 100 up to and including index 110\n",
    "print(np_height_in[100:111])"
   ]
  },
  {
   "cell_type": "markdown",
   "metadata": {},
   "source": [
    "### Tu primer array 2D de NumPy\n",
    "Antes de trabajar con los datos reales de la MLB, vamos a intentar crear un array 2D con Numpy a partir de una pequeña lista de listas.\n",
    "\n",
    "En este ejercicio, el béisbol es una lista de listas. La lista principal contiene 4 elementos. Cada uno de estos elementos es una lista que contiene la altura y el peso de 4 jugadores de béisbol, en este orden. baseball ya está codificado para ti en el script.\n",
    "\n",
    "- Utiliza np.array() para crear un array numpy 2D de béisbol. Nómbralo np_baseball.\n",
    "- Imprime el tipo de np_baseball.\n",
    "- Imprime el atributo shape de np_baseball. Usa np_baseball.shape"
   ]
  },
  {
   "cell_type": "code",
   "execution_count": null,
   "metadata": {},
   "outputs": [],
   "source": [
    "# Create baseball, a list of lists\n",
    "baseball = [[180, 78.4],\n",
    "            [215, 102.7],\n",
    "            [210, 98.5],\n",
    "            [188, 75.2]]\n",
    "\n",
    "# Import numpy\n",
    "import numpy as np\n",
    "\n",
    "# Create a 2D numpy array from baseball: np_baseball\n",
    "np_baseball = np.array(baseball)\n",
    "\n",
    "# Print out the type of np_baseball\n",
    "print(type(np_baseball))\n",
    "\n",
    "# Print out the shape of np_baseball\n",
    "print(np_baseball.shape)"
   ]
  },
  {
   "cell_type": "markdown",
   "metadata": {},
   "source": [
    "### Datos de béisbol en forma 2D\n",
    "Vuelves a mirar los datos de la MLB y te das cuenta de que tiene más sentido reestructurar toda esta información en un array 2D de numpy. Este array debería tener 1015 filas, correspondientes a los 1015 jugadores de béisbol de los que tienes información, y 2 columnas (para la altura y el peso).\n",
    "\n",
    "La MLB fue, de nuevo, muy servicial y le pasó los datos en una estructura diferente, una lista de listas en Python. En esta lista de listas, cada sublista representa la altura y el peso de un solo jugador de béisbol. El nombre de esta lista incrustada es béisbol.\n",
    "- Utiliza np.array() para crear un array numpy 2D de béisbol. Nómbralo np_baseball.\n",
    "- Imprime el atributo shape de np_basebal"
   ]
  },
  {
   "cell_type": "code",
   "execution_count": null,
   "metadata": {},
   "outputs": [],
   "source": [
    "# baseball is available as a regular list of lists\n",
    "\n",
    "# Import numpy package\n",
    "import numpy as np\n",
    "\n",
    "# Create a 2D numpy array from baseball: np_baseball\n",
    "np_baseball = np.array(baseball)\n",
    "\n",
    "# Print out the shape of np_baseball\n",
    "print(np_baseball.shape)"
   ]
  },
  {
   "cell_type": "markdown",
   "metadata": {},
   "source": [
    "### Subconjunto de arrays 2D de NumPy\n",
    "Si tu array 2D de Numpy tiene una estructura regular, es decir, cada fila y columna tiene un número fijo de valores, las formas complicadas de subconjuntos se vuelven muy fáciles. Echa un vistazo al código de abajo donde los elementos \"a\" y \"c\" se extraen de una lista de listas."
   ]
  },
  {
   "cell_type": "code",
   "execution_count": null,
   "metadata": {},
   "outputs": [],
   "source": [
    "# regular list of lists\n",
    "x = [[\"a\", \"b\"], [\"c\", \"d\"]]\n",
    "[x[0][0], x[1][0]]\n",
    "\n",
    "# numpy\n",
    "import numpy as np\n",
    "np_x = np.array(x)\n",
    "np_x[:,0]"
   ]
  },
  {
   "cell_type": "markdown",
   "metadata": {},
   "source": [
    "Para las listas regulares de Python, esto es un verdadero dolor. Sin embargo, para los arrays 2D de numpy es bastante intuitivo. Los índices antes de la coma se refieren a las filas, mientras que los que están después de la coma se refieren a las columnas. El : es para cortar; en este ejemplo, le dice a Python que incluya todas las filas.\n",
    "\n",
    "El código que convierte la lista de béisbol precargada en una matriz numpy 2D ya está en el script. La primera columna contiene la altura de los jugadores en pulgadas y la segunda columna contiene el peso del jugador, en libras. Añade algunas líneas para hacer las selecciones correctas. Recuerda que en Python, ¡el primer elemento está en el índice 0!\n",
    "\n",
    "- Imprime la fila 50 de np_baseball.\n",
    "- Crea una nueva variable, np_peso_lb, que contenga toda la segunda columna de np_baseball.\n",
    "- Selecciona la altura (primera columna) del 124º jugador de béisbol en np_baseball e imprímela."
   ]
  },
  {
   "cell_type": "code",
   "execution_count": null,
   "metadata": {},
   "outputs": [],
   "source": [
    "# baseball is available as a regular list of lists\n",
    "\n",
    "# Import numpy package\n",
    "import numpy as np\n",
    "\n",
    "# Create np_baseball (2 cols)\n",
    "np_baseball = np.array(baseball)\n",
    "\n",
    "# Print out the 50th row of np_baseball\n",
    "print(np_baseball[49])\n",
    "\n",
    "# Select the entire second column of np_baseball: np_weight_lb\n",
    "np_weight_lb = np_baseball[:,1]\n",
    "\n",
    "# Print out height of 124th player\n",
    "print(np_baseball[:,0])"
   ]
  },
  {
   "cell_type": "markdown",
   "metadata": {},
   "source": [
    "### Aritmética 2D\n",
    "¿Recuerdas cómo calculaste el Índice de Masa Corporal de todos los jugadores de béisbol? numpy era capaz de realizar todos los cálculos elemento a elemento (es decir, elemento a elemento). Para las matrices 2D de numpy esto no es diferente. Puedes combinar matrices con números simples, con vectores y con otras matrices.\n",
    "\n",
    "Ejecuta el código de abajo en el shell de Python y mira si lo entiendes:"
   ]
  },
  {
   "cell_type": "code",
   "execution_count": null,
   "metadata": {},
   "outputs": [],
   "source": [
    "import numpy as np\n",
    "np_mat = np.array([[1, 2],\n",
    "                   [3, 4],\n",
    "                   [5, 6]])\n",
    "np_mat * 2\n",
    "np_mat + np.array([10, 10])\n",
    "np_mat + np_mat"
   ]
  },
  {
   "cell_type": "markdown",
   "metadata": {},
   "source": [
    "np_baseball está codificado para ti; es de nuevo un array numpy 2D con 3 columnas que representan la altura (en pulgadas), el peso (en libras) y la edad (en años\n",
    "\n",
    "- Has conseguido hacerte con los cambios de altura, peso y edad de todos los jugadores de béisbol. Está disponible como un array 2D de numpy, updated. Suma np_baseball y updated e imprime el resultado.\n",
    "- Quieres convertir las unidades de altura y peso al sistema métrico (metros y kilogramos respectivamente). Como primer paso, crea un array numpy con tres valores 0.0254, 0.453592 y 1. Nombra este array como conversion.\n",
    "- Multiplica np_baseball con la conversión e imprime el resultado."
   ]
  },
  {
   "cell_type": "code",
   "execution_count": null,
   "metadata": {},
   "outputs": [],
   "source": [
    "# baseball is available as a regular list of lists\n",
    "# updated is available as 2D numpy array\n",
    "\n",
    "# Import numpy package\n",
    "import numpy as np\n",
    "\n",
    "# Create np_baseball (3 cols)\n",
    "np_baseball = np.array(baseball)\n",
    "\n",
    "# Print out addition of np_baseball and updated\n",
    "print(np_baseball+updated)\n",
    "\n",
    "# Create numpy array: conversion\n",
    "conversion = np.array([0.0254,0.453592,1])\n",
    "\n",
    "# Print out product of np_baseball and conversion\n",
    "print(np_baseball*conversion)"
   ]
  },
  {
   "cell_type": "markdown",
   "metadata": {},
   "source": [
    "### La media frente a la mediana\n",
    "Ahora ya sabes cómo utilizar las funciones de numpy para obtener una mejor sensación de tus datos. Básicamente se trata de importar numpy y luego llamar a varias funciones simples en los arrays de numpy:"
   ]
  },
  {
   "cell_type": "code",
   "execution_count": null,
   "metadata": {},
   "outputs": [],
   "source": [
    "import numpy as np\n",
    "x = [1, 4, 8, 10, 12]\n",
    "np.mean(x)\n",
    "np.median(x)"
   ]
  },
  {
   "cell_type": "markdown",
   "metadata": {},
   "source": [
    "Los datos de béisbol están disponibles como un array numpy 2D con 3 columnas (altura, peso, edad) y 1015 filas. El nombre de este array numpy es np_baseball. Sin embargo, después de reestructurar los datos, notas que algunos valores de altura son anormalmente altos. Sigue las instrucciones y descubre qué estadística de resumen es la más adecuada si se trata de los llamados valores atípicos.\n",
    "- Crea el array numpy np_height_in que es igual a la primera columna de np_baseball.\n",
    "- Imprime la media de np_height_in.\n",
    "- Imprime la mediana de np_height_in"
   ]
  },
  {
   "cell_type": "code",
   "execution_count": null,
   "metadata": {},
   "outputs": [],
   "source": [
    "# np_baseball is available\n",
    "\n",
    "# Import numpy\n",
    "import numpy as np\n",
    "\n",
    "# Create np_height_in from np_baseball\n",
    "np_height_in = np_baseball[:,0]\n",
    "\n",
    "# Print out the mean of np_height_in\n",
    "print(np.mean(np_height_in))\n",
    "\n",
    "# Print out the median of np_height_in\n",
    "print(np.median(np_height_in))"
   ]
  },
  {
   "cell_type": "markdown",
   "metadata": {},
   "source": [
    "### Explora los datos del béisbol\n",
    "Como la media y la mediana están tan alejadas, decides quejarte a la MLB. Ellos encuentran el error y te envían los datos corregidos. Vuelve a estar disponible como un array Numpy 2D np_baseball, con tres columnas.\n"
   ]
  },
  {
   "cell_type": "code",
   "execution_count": null,
   "metadata": {},
   "outputs": [],
   "source": [
    "# np_baseball is available\n",
    "\n",
    "# Import numpy\n",
    "import numpy as np\n",
    "\n",
    "# Print mean height (first column)\n",
    "avg = np.mean(np_baseball[:,0])\n",
    "print(\"Average: \" + str(avg))\n",
    "\n",
    "# Print median height. Replace 'None'\n",
    "med = np.median(np_baseball[:,0])\n",
    "print(\"Median: \" + str(med))\n",
    "\n",
    "# Print out the standard deviation on height. Replace 'None'\n",
    "stddev = np.std(np_baseball[:,0])\n",
    "print(\"Standard Deviation: \" + str(stddev))\n",
    "\n",
    "# Print out correlation between first and second column. Replace 'None'\n",
    "corr = np.corrcoef(np_baseball[:,0],np_baseball[:,1])\n",
    "print(\"Correlation: \" + str(corr))"
   ]
  },
  {
   "cell_type": "markdown",
   "metadata": {},
   "source": [
    "### Mézclalo todo\n",
    "En los últimos ejercicios has aprendido todo lo que hay que saber sobre las alturas y los pesos de los jugadores de béisbol. Ahora es el momento de sumergirse en otro deporte: el fútbol.\n",
    "\n",
    "Te has puesto en contacto con la FIFA para obtener algunos datos y te han entregado dos listas. Las listas son las siguientes:"
   ]
  },
  {
   "cell_type": "code",
   "execution_count": null,
   "metadata": {},
   "outputs": [],
   "source": [
    "positions = ['GK', 'M', 'A', 'D', ...]\n",
    "heights = [191, 184, 185, 180, ...]"
   ]
  },
  {
   "cell_type": "markdown",
   "metadata": {},
   "source": [
    "Cada elemento de las listas corresponde a un jugador. La primera lista, posiciones, contiene cadenas que representan la posición de cada jugador. Las posiciones posibles son: 'GK' (portero), 'M' (centro del campo), 'A' (ataque) y 'D' (defensa). La segunda lista, alturas, contiene enteros que representan la altura del jugador en cm. El primer jugador de la lista es un portero y es bastante alto (191 cm).\n",
    "\n",
    "Estás bastante seguro de que la altura media de los porteros es mayor que la de los demás jugadores del campo de fútbol. Algunos de tus amigos no te creen, así que estás decidido a demostrárselo utilizando los datos que has recibido de la FIFA y tus recién adquiridos conocimientos de Python.\n",
    "\n",
    "- Convierte las alturas y las posiciones, que son listas regulares, en matrices numpy. Llámalos np_heights y np_position.\n",
    "- Extrae todas las alturas de los porteros. Puedes usar un pequeño truco aquí: usa np_positions == 'GK' como índice para np_heights. Asigna el resultado a gk_heights.\n",
    "- Extrae las alturas de todos los demás jugadores. Esta vez utiliza np_positions != 'GK' como índice para np_heights. Asigna el resultado a other_heights.\n",
    "- Imprime la altura mediana de los porteros utilizando np.median(). Sustituye None por el código correcto.\n",
    "Haz lo mismo para los demás jugadores. Imprime su altura mediana. Sustituye None por el código correcto."
   ]
  },
  {
   "cell_type": "code",
   "execution_count": null,
   "metadata": {},
   "outputs": [],
   "source": [
    "# heights and positions are available as lists\n",
    "\n",
    "# Import numpy\n",
    "import numpy as np\n",
    "\n",
    "# Convert positions and heights to numpy arrays: np_positions, np_heights\n",
    "np_positions = np.array(positions)\n",
    "np_heights = np.array(heights)\n",
    "\n",
    "\n",
    "# Heights of the goalkeepers: gk_heights\n",
    "gk_heights = np_heights[np_positions == 'GK']\n",
    "\n",
    "# Heights of the other players: other_heights\n",
    "other_heights = np_heights[np_positions!='GK']\n",
    "\n",
    "# Print out the median height of goalkeepers. Replace 'None'\n",
    "print(\"Median height of goalkeepers: \" + str(np.median(gk_heights)))\n",
    "\n",
    "# Print out the median height of other players. Replace 'None'\n",
    "print(\"Median height of other players: \" + str(np.median(other_heights)))"
   ]
  }
 ],
 "metadata": {
  "kernelspec": {
   "display_name": "Python 3",
   "language": "python",
   "name": "python3"
  },
  "language_info": {
   "codemirror_mode": {
    "name": "ipython",
    "version": 3
   },
   "file_extension": ".py",
   "mimetype": "text/x-python",
   "name": "python",
   "nbconvert_exporter": "python",
   "pygments_lexer": "ipython3",
   "version": "3.8.3"
  }
 },
 "nbformat": 4,
 "nbformat_minor": 2
}

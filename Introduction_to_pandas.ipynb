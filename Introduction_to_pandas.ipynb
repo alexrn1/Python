{
 "cells": [
  {
   "cell_type": "markdown",
   "metadata": {},
   "source": [
    "# Manipulación de datos con pandas\n",
    "\n",
    "Basado en DataCamp"
   ]
  },
  {
   "cell_type": "markdown",
   "metadata": {},
   "source": [
    "# 1 Transformación de DataFrames\n",
    "\n",
    "Vamos a dominar los fundamentos de pandas. Aprenda a inspeccionar DataFrames y a realizar manipulaciones fundamentales, incluyendo la ordenación de filas, el subconjunto y la adición de nuevas columnas."
   ]
  },
  {
   "cell_type": "markdown",
   "metadata": {},
   "source": [
    "## Introducción a DataFrames\n",
    "\n",
    "### Explorando DataFrames\n",
    "\n",
    "- **.head()** devuelve las primeras filas del DataFrame\n",
    "- **.info()** muestra información sobre cada una de las columnas, como el tipo de datos y el número de valores que faltan.\n",
    "- **.shape** devuelve el número de filas y columnas del DataFrame.\n",
    "- **.describe()** calcula algunas estadísticas de resumen para cada columna."
   ]
  },
  {
   "cell_type": "code",
   "execution_count": null,
   "metadata": {},
   "outputs": [],
   "source": [
    "# Imprima los primeros elementos del DataFrame homelessness\n",
    "print(homelessness.head())\n",
    "\n",
    "# Imprima la información del DataFrame homelessness \n",
    "print(homelessness.info())\n",
    "\n",
    "# Imprima el número de columnas y filas de homelessness\n",
    "print(homelessness.shape)\n",
    "\n",
    "# Imprima algunos estadísticos de resumen del DataFrame homelessness\n",
    "print(homelessness.describe()) "
   ]
  },
  {
   "cell_type": "markdown",
   "metadata": {},
   "source": [
    "### Partes de un DataFrame\n",
    "\n",
    "Para entender mejor los objetos DataFrame, es útil saber que constan de tres componentes, almacenados como atributos:\n",
    "\n",
    "- **.values**: Un array bidimensional de valores NumPy.\n",
    "- **.columns**: Un índice de columnas: los nombres de las columnas.\n",
    "- **.index**: Un índice de las filas: los números de las filas o los nombres de las filas.\n",
    "\n",
    "Normalmente se puede pensar en los índices como una lista de cadenas o números, aunque el tipo de datos Index de \n",
    "pandas permite opciones más sofisticadas."
   ]
  },
  {
   "cell_type": "code",
   "execution_count": null,
   "metadata": {},
   "outputs": [],
   "source": [
    "# Importar pandas usando el alias pd\n",
    "import pandas as pd\n",
    "\n",
    "#  Imprime un array 2D de NumPy con los valores de homelessness.\n",
    "print(homelessness.values)\n",
    "\n",
    "# Imprime los nombres de las columnas de homelessness\n",
    "print(homelessness.columns)\n",
    "\n",
    "# Imprime el índice de las filas de homelessness\n",
    "print(homelessness.index)"
   ]
  },
  {
   "cell_type": "markdown",
   "metadata": {},
   "source": [
    "## Ordenación y subconjuntos\n",
    "### Ordenando renglones\n",
    "\n",
    "Ordenar las filas\n",
    "\n",
    "Encontrar datos interesantes en un DataFrame suele ser más fácil si se cambia el orden de las filas. Puede ordenar las filas pasando un nombre de columna a .sort_values().\n",
    "\n",
    "En los casos en los que las filas tienen el mismo valor (esto es común si se ordena en una variable categórica), es posible que desee romper los empates ordenando en otra columna. Puede ordenar en múltiples columnas de esta manera pasando una lista de nombres de columnas.\n",
    "\n",
    "- una columna\tdf.sort_values(\"breed\")\n",
    "- múltiples columnas\tdf.sort_values([\"breed\", \"weight_kg\"])\n",
    "\n",
    "Para ordenar de manera descendendiente se agrega el argumento ascendinding=False"
   ]
  },
  {
   "cell_type": "code",
   "execution_count": null,
   "metadata": {},
   "outputs": [],
   "source": [
    "# Ordenar homelessness por la variable \"individuals\"\n",
    "homelessness_ind = homelessness.sort_values('individuals')\n",
    "\n",
    "# Ordenar homelessness de manera descendiente por la variable \"family_members\"\n",
    "homelessness_fam = homelessness.sort_values('family_members',ascending=False)\n",
    "\n",
    "# Ordenar homelessness por \"region\", luego de manera descendiente por \"family_members\"\n",
    "homelessness_reg_fam = homelessness.sort_values(['region','family_members'], ascending = [True, False])\n"
   ]
  },
  {
   "cell_type": "markdown",
   "metadata": {},
   "source": [
    "### Subconjunto de columnas\n",
    "Al trabajar con datos, es posible que no necesite todas las variables de su conjunto de datos. Los corchetes ([]) pueden utilizarse para seleccionar sólo las columnas que le interesan en un orden que tenga sentido para usted. \n",
    "\n",
    "Para seleccionar sólo la \"col_a\" del DataFrame df, utilice\n",
    "\n",
    "df[\"col_a\"]\n",
    "\n",
    "Para seleccionar \"col_a\" y \"col_b\" de df, utilice\n",
    "\n",
    "df[[\"col_a\", \"col_b\"]]"
   ]
  },
  {
   "cell_type": "code",
   "execution_count": null,
   "metadata": {},
   "outputs": [],
   "source": [
    "# Seleccione la columna individuals \n",
    "individuals = homelessness['individuals']\n",
    "\n",
    "# Seleccione las columnas state y family_members \n",
    "state_fam = homelessness[['state','family_members']]\n",
    "\n",
    "# Seleccione las columnas individuals y state, en ese orden\n",
    "ind_state = homelessness[['individuals','state']]"
   ]
  },
  {
   "cell_type": "markdown",
   "metadata": {},
   "source": [
    "### Subconjunto de renglones\n",
    "Una gran parte de la ciencia de los datos consiste en encontrar qué partes del conjunto de datos son interesantes. Una de las técnicas más sencillas para ello es encontrar un subconjunto de filas que coincidan con algún criterio. Esto se conoce a veces como filtrado de filas o selección de filas.\n",
    "\n",
    "Hay muchas maneras de hacer un subconjunto de un DataFrame, quizás la más común es usar operadores relacionales para devolver **True** o **False** para cada fila, y luego pasar eso dentro de corchetes.\n",
    "\n",
    "dogs[dogs[\"height_cm\"] > 60]\n",
    "dogs[dogs[\"color\"] == \"tan\"]\n",
    "\n",
    "\n",
    "Puede filtrar varias condiciones a la vez utilizando el operador \"bitwise and\", &.\n",
    "\n",
    "dogs[(dogs[\"height_cm\"] > 60) & (dogs[\"color\"] == \"tan\")]"
   ]
  },
  {
   "cell_type": "code",
   "execution_count": null,
   "metadata": {},
   "outputs": [],
   "source": [
    "# Filtre las filas de individuals más grandes que 10000\n",
    "ind_gt_10k = homelessness[homelessness['individuals']>10000]\n",
    "\n",
    "# Filtre las filas de la region donde es Mountain\n",
    "mountain_reg = homelessness[homelessness['region']==\"Mountain\"]\n",
    "\n",
    "# Filre los renglones de donde family_members es menor a 1000 \n",
    "# y region es Pacific\n",
    "fam_lt_1k_pac = homelessness[(homelessness['family_members']<1000) & (homelessness['region']==\"Pacific\")]"
   ]
  },
  {
   "cell_type": "markdown",
   "metadata": {},
   "source": [
    "### Subconjunto de filas por variables categóricas\n",
    "|, .isin()\n",
    "\n",
    "El subconjunto de datos basado en una variable categórica a menudo implica el uso del operador \"or\" (|) para seleccionar filas de múltiples categorías. Esto puede resultar tedioso cuando, por ejemplo, desea que todos los estados se encuentren en una de las tres regiones diferentes. En su lugar, utilice el método .isin(), que le permitirá abordar este problema escribiendo una condición en lugar de tres por separado."
   ]
  },
  {
   "cell_type": "code",
   "execution_count": null,
   "metadata": {},
   "outputs": [],
   "source": [
    "# Subconjunto de renglones en las regiones South Atlantic o Mid-Atlantic \n",
    "south_mid_atlantic = homelessness[(homelessness['region']==\"South Atlantic\") | (homelessness['region']==\"Mid-Atlantic\")]\n",
    "\n",
    "# Lo estados del desierto de Mojave \n",
    "canu = [\"California\", \"Arizona\", \"Nevada\", \"Utah\"]\n",
    "\n",
    "# Filtre las filas de los estados del desierto de Mojave\n",
    "mojave_homelessness = homelessness[homelessness['state'].isin(canu)]"
   ]
  },
  {
   "cell_type": "markdown",
   "metadata": {},
   "source": [
    "### Nuevas columnas\n",
    "Puede añadir nuevas columnas a un DataFrame. Esto tiene muchos nombres, transforming, mutating, y feature engineering.\n",
    "\n",
    "Puedes crear nuevas columnas desde cero, pero también es común derivarlas de otras columnas, por ejemplo, sumando columnas o cambiando sus unidades."
   ]
  },
  {
   "cell_type": "code",
   "execution_count": null,
   "metadata": {},
   "outputs": [],
   "source": [
    "# Añada la columna \"total\" como suma de los individuos y family_members\n",
    "homelessness['total'] = homelessness['individuals'] + homelessness['family_members']\n",
    "\n",
    "# Añada la columna p_individuals como proporción de individuos\n",
    "homelessness['p_individuals'] = homelessness['individuals'] / homelessness['total']\n",
    "\n",
    "# Vea el resultado\n",
    "print(homelessness)"
   ]
  },
  {
   "cell_type": "markdown",
   "metadata": {},
   "source": [
    "# 2 Agregar DataFrames"
   ]
  },
  {
   "cell_type": "code",
   "execution_count": null,
   "metadata": {},
   "outputs": [],
   "source": []
  },
  {
   "cell_type": "markdown",
   "metadata": {},
   "source": [
    "\n",
    "\n"
   ]
  }
 ],
 "metadata": {
  "kernelspec": {
   "display_name": "Python 3",
   "language": "python",
   "name": "python3"
  },
  "language_info": {
   "codemirror_mode": {
    "name": "ipython",
    "version": 3
   },
   "file_extension": ".py",
   "mimetype": "text/x-python",
   "name": "python",
   "nbconvert_exporter": "python",
   "pygments_lexer": "ipython3",
   "version": "3.8.3"
  }
 },
 "nbformat": 4,
 "nbformat_minor": 4
}
